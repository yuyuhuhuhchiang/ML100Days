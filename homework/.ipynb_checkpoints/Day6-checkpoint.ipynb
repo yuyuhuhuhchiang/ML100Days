{
 "cells": [
  {
   "cell_type": "code",
   "execution_count": 45,
   "metadata": {
    "id": "jbkK8wprdbdY"
   },
   "outputs": [],
   "source": [
    "import numpy as np"
   ]
  },
  {
   "cell_type": "markdown",
   "metadata": {
    "id": "YWb4mnd4fqAG"
   },
   "source": [
    "作業目標<br>\n",
    "讀取存取陣列資料<br>\n",
    "作業重點<br>\n",
    "多陣列存一起需要存成npz，讀取須注意npz中有多個陣列"
   ]
  },
  {
   "cell_type": "markdown",
   "metadata": {
    "id": "UXV4vW6IfsW6"
   },
   "source": [
    "題目:<br>\n",
    "1. 將下兩列array存成npz檔<br>\n",
    "array1 = np.array(range(30))<br>\n",
    "array2 = np.array([2,3,5])<br>\n",
    "2. 讀取剛剛的npz檔，加入下列array一起存成新的npz檔\n"
   ]
  },
  {
   "cell_type": "code",
   "execution_count": 46,
   "metadata": {
    "id": "1mZQSUx_fry7"
   },
   "outputs": [],
   "source": [
    "#. 將下兩列array存成npz檔\n",
    "array1 = np.array(range(30))\n",
    "array2 = np.array([2,3,5])"
   ]
  },
  {
   "cell_type": "code",
   "execution_count": 47,
   "metadata": {},
   "outputs": [],
   "source": [
    "np.savez('array.npz',array1,array2)"
   ]
  },
  {
   "cell_type": "code",
   "execution_count": 48,
   "metadata": {
    "id": "Ie1TGcssiIDN"
   },
   "outputs": [],
   "source": [
    "#2. 讀取剛剛的npz檔，加入下列array一起存成新的npz檔"
   ]
  },
  {
   "cell_type": "code",
   "execution_count": 49,
   "metadata": {},
   "outputs": [
    {
     "name": "stdout",
     "output_type": "stream",
     "text": [
      "['arr_0', 'arr_1']\n",
      "[ 0  1  2  3  4  5  6  7  8  9 10 11 12 13 14 15 16 17 18 19 20 21 22 23\n",
      " 24 25 26 27 28 29]\n",
      "[2 3 5]\n"
     ]
    }
   ],
   "source": [
    "load_array = np.load('array.npz')\n",
    "print(load_array.files)\n",
    "print(load_array['arr_0'])\n",
    "print(load_array['arr_1'])"
   ]
  },
  {
   "cell_type": "code",
   "execution_count": 50,
   "metadata": {},
   "outputs": [],
   "source": [
    "array3 = np.array([[4,5,6],[1,2,3]])\n",
    "np.savez('new_array.npz',load_array['arr_0'],load_array['arr_1'],array3)"
   ]
  },
  {
   "cell_type": "code",
   "execution_count": 52,
   "metadata": {},
   "outputs": [
    {
     "name": "stdout",
     "output_type": "stream",
     "text": [
      "['arr_0', 'arr_1', 'arr_2']\n"
     ]
    }
   ],
   "source": [
    "load_new_array = np.load('new_array.npz')\n",
    "print(load_new_array.files)"
   ]
  },
  {
   "cell_type": "code",
   "execution_count": 54,
   "metadata": {},
   "outputs": [
    {
     "name": "stdout",
     "output_type": "stream",
     "text": [
      "[ 0  1  2  3  4  5  6  7  8  9 10 11 12 13 14 15 16 17 18 19 20 21 22 23\n",
      " 24 25 26 27 28 29]\n",
      "[2 3 5]\n",
      "[[4 5 6]\n",
      " [1 2 3]]\n"
     ]
    }
   ],
   "source": [
    "print(load_new_array['arr_0'])\n",
    "print(load_new_array['arr_1'])\n",
    "print(load_new_array['arr_2'])"
   ]
  }
 ],
 "metadata": {
  "colab": {
   "collapsed_sections": [],
   "name": "作業Hong題目.ipynb",
   "provenance": []
  },
  "kernelspec": {
   "display_name": "Python 3",
   "language": "python",
   "name": "python3"
  },
  "language_info": {
   "codemirror_mode": {
    "name": "ipython",
    "version": 3
   },
   "file_extension": ".py",
   "mimetype": "text/x-python",
   "name": "python",
   "nbconvert_exporter": "python",
   "pygments_lexer": "ipython3",
   "version": "3.8.5"
  }
 },
 "nbformat": 4,
 "nbformat_minor": 1
}
