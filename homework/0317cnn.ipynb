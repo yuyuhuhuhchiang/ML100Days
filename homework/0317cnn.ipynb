{
 "cells": [
  {
   "cell_type": "markdown",
   "metadata": {},
   "source": [
    "# Convolutional Neural Network"
   ]
  },
  {
   "cell_type": "code",
   "execution_count": 49,
   "metadata": {},
   "outputs": [
    {
     "data": {
      "text/html": [
       "<div>\n",
       "<style scoped>\n",
       "    .dataframe tbody tr th:only-of-type {\n",
       "        vertical-align: middle;\n",
       "    }\n",
       "\n",
       "    .dataframe tbody tr th {\n",
       "        vertical-align: top;\n",
       "    }\n",
       "\n",
       "    .dataframe thead th {\n",
       "        text-align: right;\n",
       "    }\n",
       "</style>\n",
       "<table border=\"1\" class=\"dataframe\">\n",
       "  <thead>\n",
       "    <tr style=\"text-align: right;\">\n",
       "      <th></th>\n",
       "      <th>TPE:1216</th>\n",
       "    </tr>\n",
       "    <tr>\n",
       "      <th>Date</th>\n",
       "      <th></th>\n",
       "    </tr>\n",
       "  </thead>\n",
       "  <tbody>\n",
       "    <tr>\n",
       "      <th>2016-07-04</th>\n",
       "      <td>64.5</td>\n",
       "    </tr>\n",
       "    <tr>\n",
       "      <th>2016-07-05</th>\n",
       "      <td>64.4</td>\n",
       "    </tr>\n",
       "    <tr>\n",
       "      <th>2016-07-06</th>\n",
       "      <td>63.6</td>\n",
       "    </tr>\n",
       "    <tr>\n",
       "      <th>2016-07-07</th>\n",
       "      <td>63.6</td>\n",
       "    </tr>\n",
       "    <tr>\n",
       "      <th>2016-07-11</th>\n",
       "      <td>65.1</td>\n",
       "    </tr>\n",
       "    <tr>\n",
       "      <th>...</th>\n",
       "      <td>...</td>\n",
       "    </tr>\n",
       "    <tr>\n",
       "      <th>2019-06-25</th>\n",
       "      <td>82.0</td>\n",
       "    </tr>\n",
       "    <tr>\n",
       "      <th>2019-06-26</th>\n",
       "      <td>81.4</td>\n",
       "    </tr>\n",
       "    <tr>\n",
       "      <th>2019-06-27</th>\n",
       "      <td>82.0</td>\n",
       "    </tr>\n",
       "    <tr>\n",
       "      <th>2019-06-28</th>\n",
       "      <td>82.7</td>\n",
       "    </tr>\n",
       "    <tr>\n",
       "      <th>2019-07-01</th>\n",
       "      <td>81.5</td>\n",
       "    </tr>\n",
       "  </tbody>\n",
       "</table>\n",
       "<p>729 rows × 1 columns</p>\n",
       "</div>"
      ],
      "text/plain": [
       "            TPE:1216\n",
       "Date                \n",
       "2016-07-04      64.5\n",
       "2016-07-05      64.4\n",
       "2016-07-06      63.6\n",
       "2016-07-07      63.6\n",
       "2016-07-11      65.1\n",
       "...              ...\n",
       "2019-06-25      82.0\n",
       "2019-06-26      81.4\n",
       "2019-06-27      82.0\n",
       "2019-06-28      82.7\n",
       "2019-07-01      81.5\n",
       "\n",
       "[729 rows x 1 columns]"
      ]
     },
     "execution_count": 49,
     "metadata": {},
     "output_type": "execute_result"
    }
   ],
   "source": [
    "# 時間物件\n",
    "import datetime\n",
    "import time\n",
    "\n",
    "# 資料處理\n",
    "import pandas as pd\n",
    "\n",
    "# 利用 pandas 將資料整理成表格\n",
    "df = pd.read_csv('C:\\\\Users\\\\YUYU\\\\finlab_ml_course\\\\training_group1.csv', header=0,\n",
    "                 index_col=\"Date\",encoding= 'unicode_escape', delimiter=',')\n",
    "\n",
    "\n",
    "# 資料處理\n",
    "\n",
    "df = df.dropna(how='all', axis=0).dropna(how='all', axis=1)\n",
    "df.index = pd.to_datetime(df.index,format='%Y/%m/%d')\n",
    "df = df.apply(lambda s: s.astype(str).str.replace(\",\",\" \").astype(float))\n",
    "\n",
    "df.columns = df.columns.str.strip()\n",
    "df"
   ]
  },
  {
   "cell_type": "markdown",
   "metadata": {},
   "source": [
    "## 製作features"
   ]
  },
  {
   "cell_type": "code",
   "execution_count": 39,
   "metadata": {
    "scrolled": true
   },
   "outputs": [
    {
     "data": {
      "text/plain": [
       "array([Timestamp('2016-09-12 00:00:00'), Timestamp('2016-09-19 00:00:00'),\n",
       "       Timestamp('2016-09-22 00:00:00'), Timestamp('2016-09-29 00:00:00'),\n",
       "       Timestamp('2016-10-04 00:00:00'), Timestamp('2016-10-07 00:00:00'),\n",
       "       Timestamp('2016-10-13 00:00:00'), Timestamp('2016-10-18 00:00:00'),\n",
       "       Timestamp('2016-10-21 00:00:00'), Timestamp('2016-10-26 00:00:00'),\n",
       "       Timestamp('2016-10-31 00:00:00'), Timestamp('2016-11-03 00:00:00'),\n",
       "       Timestamp('2016-11-08 00:00:00'), Timestamp('2016-11-11 00:00:00'),\n",
       "       Timestamp('2016-11-16 00:00:00'), Timestamp('2016-11-21 00:00:00'),\n",
       "       Timestamp('2016-11-24 00:00:00'), Timestamp('2016-11-29 00:00:00'),\n",
       "       Timestamp('2016-12-02 00:00:00'), Timestamp('2016-12-07 00:00:00'),\n",
       "       Timestamp('2016-12-12 00:00:00'), Timestamp('2016-12-15 00:00:00'),\n",
       "       Timestamp('2016-12-20 00:00:00'), Timestamp('2016-12-23 00:00:00'),\n",
       "       Timestamp('2016-12-28 00:00:00'), Timestamp('2017-01-03 00:00:00'),\n",
       "       Timestamp('2017-01-06 00:00:00'), Timestamp('2017-01-11 00:00:00'),\n",
       "       Timestamp('2017-01-16 00:00:00'), Timestamp('2017-01-19 00:00:00'),\n",
       "       Timestamp('2017-01-24 00:00:00'), Timestamp('2017-02-06 00:00:00'),\n",
       "       Timestamp('2017-02-09 00:00:00'), Timestamp('2017-02-14 00:00:00'),\n",
       "       Timestamp('2017-02-17 00:00:00'), Timestamp('2017-02-22 00:00:00'),\n",
       "       Timestamp('2017-03-01 00:00:00'), Timestamp('2017-03-06 00:00:00'),\n",
       "       Timestamp('2017-03-09 00:00:00'), Timestamp('2017-03-14 00:00:00'),\n",
       "       Timestamp('2017-03-17 00:00:00'), Timestamp('2017-03-22 00:00:00'),\n",
       "       Timestamp('2017-03-27 00:00:00'), Timestamp('2017-03-30 00:00:00'),\n",
       "       Timestamp('2017-04-06 00:00:00'), Timestamp('2017-04-11 00:00:00'),\n",
       "       Timestamp('2017-04-14 00:00:00'), Timestamp('2017-04-19 00:00:00'),\n",
       "       Timestamp('2017-04-24 00:00:00'), Timestamp('2017-04-27 00:00:00'),\n",
       "       Timestamp('2017-05-03 00:00:00'), Timestamp('2017-05-08 00:00:00'),\n",
       "       Timestamp('2017-05-11 00:00:00'), Timestamp('2017-05-16 00:00:00'),\n",
       "       Timestamp('2017-05-19 00:00:00'), Timestamp('2017-05-24 00:00:00'),\n",
       "       Timestamp('2017-05-31 00:00:00'), Timestamp('2017-06-05 00:00:00'),\n",
       "       Timestamp('2017-06-08 00:00:00'), Timestamp('2017-06-13 00:00:00'),\n",
       "       Timestamp('2017-06-16 00:00:00'), Timestamp('2017-06-21 00:00:00'),\n",
       "       Timestamp('2017-06-26 00:00:00'), Timestamp('2017-06-29 00:00:00'),\n",
       "       Timestamp('2017-07-04 00:00:00'), Timestamp('2017-07-07 00:00:00'),\n",
       "       Timestamp('2017-07-12 00:00:00'), Timestamp('2017-07-17 00:00:00'),\n",
       "       Timestamp('2017-07-20 00:00:00'), Timestamp('2017-07-25 00:00:00'),\n",
       "       Timestamp('2017-07-31 00:00:00'), Timestamp('2017-08-03 00:00:00'),\n",
       "       Timestamp('2017-08-08 00:00:00'), Timestamp('2017-08-11 00:00:00'),\n",
       "       Timestamp('2017-08-16 00:00:00'), Timestamp('2017-08-21 00:00:00'),\n",
       "       Timestamp('2017-08-24 00:00:00'), Timestamp('2017-08-29 00:00:00'),\n",
       "       Timestamp('2017-09-01 00:00:00'), Timestamp('2017-09-06 00:00:00'),\n",
       "       Timestamp('2017-09-11 00:00:00'), Timestamp('2017-09-14 00:00:00'),\n",
       "       Timestamp('2017-09-19 00:00:00'), Timestamp('2017-09-22 00:00:00'),\n",
       "       Timestamp('2017-09-27 00:00:00'), Timestamp('2017-10-02 00:00:00'),\n",
       "       Timestamp('2017-10-06 00:00:00'), Timestamp('2017-10-13 00:00:00'),\n",
       "       Timestamp('2017-10-18 00:00:00'), Timestamp('2017-10-23 00:00:00'),\n",
       "       Timestamp('2017-10-26 00:00:00'), Timestamp('2017-10-31 00:00:00'),\n",
       "       Timestamp('2017-11-03 00:00:00'), Timestamp('2017-11-08 00:00:00'),\n",
       "       Timestamp('2017-11-13 00:00:00'), Timestamp('2017-11-16 00:00:00'),\n",
       "       Timestamp('2017-11-21 00:00:00'), Timestamp('2017-11-24 00:00:00'),\n",
       "       Timestamp('2017-11-29 00:00:00'), Timestamp('2017-12-04 00:00:00'),\n",
       "       Timestamp('2017-12-07 00:00:00'), Timestamp('2017-12-12 00:00:00'),\n",
       "       Timestamp('2017-12-15 00:00:00'), Timestamp('2017-12-20 00:00:00'),\n",
       "       Timestamp('2017-12-25 00:00:00'), Timestamp('2017-12-28 00:00:00'),\n",
       "       Timestamp('2018-01-03 00:00:00'), Timestamp('2018-01-08 00:00:00'),\n",
       "       Timestamp('2018-01-11 00:00:00'), Timestamp('2018-01-16 00:00:00'),\n",
       "       Timestamp('2018-01-19 00:00:00'), Timestamp('2018-01-24 00:00:00'),\n",
       "       Timestamp('2018-01-29 00:00:00'), Timestamp('2018-02-01 00:00:00'),\n",
       "       Timestamp('2018-02-06 00:00:00'), Timestamp('2018-02-09 00:00:00'),\n",
       "       Timestamp('2018-02-22 00:00:00'), Timestamp('2018-02-27 00:00:00'),\n",
       "       Timestamp('2018-03-05 00:00:00'), Timestamp('2018-03-08 00:00:00'),\n",
       "       Timestamp('2018-03-13 00:00:00'), Timestamp('2018-03-16 00:00:00'),\n",
       "       Timestamp('2018-03-21 00:00:00'), Timestamp('2018-03-26 00:00:00'),\n",
       "       Timestamp('2018-03-29 00:00:00'), Timestamp('2018-04-02 00:00:00'),\n",
       "       Timestamp('2018-04-10 00:00:00'), Timestamp('2018-04-13 00:00:00'),\n",
       "       Timestamp('2018-04-18 00:00:00'), Timestamp('2018-04-23 00:00:00'),\n",
       "       Timestamp('2018-04-26 00:00:00'), Timestamp('2018-05-02 00:00:00'),\n",
       "       Timestamp('2018-05-07 00:00:00'), Timestamp('2018-05-10 00:00:00'),\n",
       "       Timestamp('2018-05-15 00:00:00'), Timestamp('2018-05-18 00:00:00'),\n",
       "       Timestamp('2018-05-23 00:00:00'), Timestamp('2018-05-28 00:00:00'),\n",
       "       Timestamp('2018-05-31 00:00:00'), Timestamp('2018-06-05 00:00:00'),\n",
       "       Timestamp('2018-06-08 00:00:00'), Timestamp('2018-06-13 00:00:00'),\n",
       "       Timestamp('2018-06-19 00:00:00'), Timestamp('2018-06-22 00:00:00'),\n",
       "       Timestamp('2018-06-27 00:00:00'), Timestamp('2018-07-02 00:00:00'),\n",
       "       Timestamp('2018-07-05 00:00:00'), Timestamp('2018-07-10 00:00:00'),\n",
       "       Timestamp('2018-07-13 00:00:00'), Timestamp('2018-07-18 00:00:00'),\n",
       "       Timestamp('2018-07-23 00:00:00'), Timestamp('2018-07-26 00:00:00'),\n",
       "       Timestamp('2018-07-31 00:00:00'), Timestamp('2018-08-03 00:00:00'),\n",
       "       Timestamp('2018-08-08 00:00:00'), Timestamp('2018-08-13 00:00:00'),\n",
       "       Timestamp('2018-08-16 00:00:00'), Timestamp('2018-08-21 00:00:00'),\n",
       "       Timestamp('2018-08-24 00:00:00'), Timestamp('2018-08-29 00:00:00'),\n",
       "       Timestamp('2018-09-03 00:00:00'), Timestamp('2018-09-06 00:00:00'),\n",
       "       Timestamp('2018-09-11 00:00:00'), Timestamp('2018-09-14 00:00:00'),\n",
       "       Timestamp('2018-09-19 00:00:00'), Timestamp('2018-09-25 00:00:00'),\n",
       "       Timestamp('2018-09-28 00:00:00'), Timestamp('2018-10-03 00:00:00'),\n",
       "       Timestamp('2018-10-08 00:00:00'), Timestamp('2018-10-12 00:00:00'),\n",
       "       Timestamp('2018-10-17 00:00:00'), Timestamp('2018-10-22 00:00:00'),\n",
       "       Timestamp('2018-10-25 00:00:00'), Timestamp('2018-10-30 00:00:00'),\n",
       "       Timestamp('2018-11-02 00:00:00'), Timestamp('2018-11-07 00:00:00'),\n",
       "       Timestamp('2018-11-12 00:00:00'), Timestamp('2018-11-15 00:00:00'),\n",
       "       Timestamp('2018-11-20 00:00:00'), Timestamp('2018-11-23 00:00:00'),\n",
       "       Timestamp('2018-11-28 00:00:00'), Timestamp('2018-12-03 00:00:00'),\n",
       "       Timestamp('2018-12-06 00:00:00'), Timestamp('2018-12-11 00:00:00'),\n",
       "       Timestamp('2018-12-14 00:00:00'), Timestamp('2018-12-19 00:00:00'),\n",
       "       Timestamp('2018-12-22 00:00:00'), Timestamp('2018-12-26 00:00:00'),\n",
       "       Timestamp('2019-01-02 00:00:00'), Timestamp('2019-01-07 00:00:00'),\n",
       "       Timestamp('2019-01-10 00:00:00'), Timestamp('2019-01-15 00:00:00'),\n",
       "       Timestamp('2019-01-18 00:00:00'), Timestamp('2019-01-23 00:00:00'),\n",
       "       Timestamp('2019-01-28 00:00:00'), Timestamp('2019-02-11 00:00:00'),\n",
       "       Timestamp('2019-02-14 00:00:00'), Timestamp('2019-02-19 00:00:00'),\n",
       "       Timestamp('2019-02-22 00:00:00'), Timestamp('2019-02-27 00:00:00'),\n",
       "       Timestamp('2019-03-06 00:00:00'), Timestamp('2019-03-11 00:00:00'),\n",
       "       Timestamp('2019-03-14 00:00:00'), Timestamp('2019-03-19 00:00:00'),\n",
       "       Timestamp('2019-03-22 00:00:00'), Timestamp('2019-03-27 00:00:00'),\n",
       "       Timestamp('2019-04-01 00:00:00'), Timestamp('2019-04-08 00:00:00'),\n",
       "       Timestamp('2019-04-11 00:00:00'), Timestamp('2019-04-16 00:00:00'),\n",
       "       Timestamp('2019-04-19 00:00:00'), Timestamp('2019-04-24 00:00:00'),\n",
       "       Timestamp('2019-04-29 00:00:00'), Timestamp('2019-05-03 00:00:00'),\n",
       "       Timestamp('2019-05-08 00:00:00'), Timestamp('2019-05-13 00:00:00'),\n",
       "       Timestamp('2019-05-16 00:00:00'), Timestamp('2019-05-21 00:00:00'),\n",
       "       Timestamp('2019-05-24 00:00:00'), Timestamp('2019-05-29 00:00:00'),\n",
       "       Timestamp('2019-06-03 00:00:00'), Timestamp('2019-06-06 00:00:00'),\n",
       "       Timestamp('2019-06-12 00:00:00')], dtype=object)"
      ]
     },
     "execution_count": 39,
     "metadata": {},
     "output_type": "execute_result"
    }
   ],
   "source": [
    "import numpy as np\n",
    "cnn_x = []\n",
    "cnn_y = []\n",
    "indexes = []\n",
    "\n",
    "time_period = 50\n",
    "\n",
    "\n",
    "for i in range(0, len(df)-time_period-1-10, 3):\n",
    "    xi = df.iloc[i:i+time_period]\n",
    "    xi = (xi - xi.min()) / (xi.max() - xi.min())\n",
    "    cnn_x.append(xi)\n",
    "    \n",
    "    yi = df.iloc[i+time_period-1+10] / df.iloc[i+time_period-1]\n",
    "    cnn_y.append(yi)\n",
    "    \n",
    "    indexes.append(df.index[i+time_period-1])\n",
    "\n",
    "cnn_x = np.array(cnn_x)\n",
    "cnn_y = np.array(cnn_y)\n",
    "indexes = np.array(indexes)\n",
    "indexes"
   ]
  },
  {
   "cell_type": "code",
   "execution_count": 40,
   "metadata": {},
   "outputs": [
    {
     "name": "stdout",
     "output_type": "stream",
     "text": [
      "[1.06735751]\n"
     ]
    },
    {
     "data": {
      "image/png": "[encoded data removed]",
      "text/plain": [
       "<Figure size 432x288 with 1 Axes>"
      ]
     },
     "metadata": {
      "needs_background": "light"
     },
     "output_type": "display_data"
    }
   ],
   "source": [
    "#神經網路辨識的圖\n",
    "import matplotlib.pyplot as plt\n",
    "\n",
    "#股價\n",
    "plt.plot(cnn_x[1])\n",
    "#漲幅\n",
    "print(cnn_y[1])"
   ]
  },
  {
   "cell_type": "markdown",
   "metadata": {},
   "source": [
    "## Reshape features and labels"
   ]
  },
  {
   "cell_type": "code",
   "execution_count": 41,
   "metadata": {},
   "outputs": [
    {
     "data": {
      "text/plain": [
       "(223, 50, 1)"
      ]
     },
     "execution_count": 41,
     "metadata": {},
     "output_type": "execute_result"
    }
   ],
   "source": [
    "\n",
    "cnn_x = cnn_x.reshape(len(cnn_x), time_period, 1)\n",
    "cnn_y = cnn_y.reshape(len(cnn_y), 1)\n",
    "cnn_x.shape"
   ]
  },
  {
   "cell_type": "markdown",
   "metadata": {},
   "source": [
    "## Split traning and testing data"
   ]
  },
  {
   "cell_type": "code",
   "execution_count": 43,
   "metadata": {},
   "outputs": [],
   "source": [
    "import datetime\n",
    "cnn_x_train = cnn_x[indexes < datetime.datetime(2018,7,1)]\n",
    "cnn_y_train = cnn_y[indexes < datetime.datetime(2018,7,1)]"
   ]
  },
  {
   "cell_type": "code",
   "execution_count": 44,
   "metadata": {},
   "outputs": [
    {
     "data": {
      "text/plain": [
       "[<matplotlib.lines.Line2D at 0x22d68dbc408>]"
      ]
     },
     "execution_count": 44,
     "metadata": {},
     "output_type": "execute_result"
    },
    {
     "data": {
      "image/png": "[encoded data removed]",
      "text/plain": [
       "<Figure size 432x288 with 1 Axes>"
      ]
     },
     "metadata": {
      "needs_background": "light"
     },
     "output_type": "display_data"
    }
   ],
   "source": [
    "import matplotlib.pyplot as plt\n",
    "%matplotlib inline\n",
    "plt.plot(cnn_x[0].reshape(1, len(cnn_x[0]))[0])\n"
   ]
  },
  {
   "cell_type": "markdown",
   "metadata": {},
   "source": [
    "## CNN"
   ]
  },
  {
   "cell_type": "code",
   "execution_count": 45,
   "metadata": {
    "scrolled": true
   },
   "outputs": [
    {
     "name": "stdout",
     "output_type": "stream",
     "text": [
      "_________________________________________________________________\n",
      "Layer (type)                 Output Shape              Param #   \n",
      "=================================================================\n",
      "conv1d_12 (Conv1D)           (None, 48, 5)             20        \n",
      "_________________________________________________________________\n",
      "average_pooling1d_10 (Averag (None, 9, 5)              0         \n",
      "_________________________________________________________________\n",
      "conv1d_13 (Conv1D)           (None, 7, 5)              80        \n",
      "_________________________________________________________________\n",
      "average_pooling1d_11 (Averag (None, 1, 5)              0         \n",
      "_________________________________________________________________\n",
      "flatten_3 (Flatten)          (None, 5)                 0         \n",
      "_________________________________________________________________\n",
      "dense_7 (Dense)              (None, 120)               720       \n",
      "_________________________________________________________________\n",
      "dense_8 (Dense)              (None, 84)                10164     \n",
      "_________________________________________________________________\n",
      "dense_9 (Dense)              (None, 1)                 85        \n",
      "=================================================================\n",
      "Total params: 11,069\n",
      "Trainable params: 11,069\n",
      "Non-trainable params: 0\n",
      "_________________________________________________________________\n",
      "None\n",
      "Train on 130 samples, validate on 15 samples\n",
      "Epoch 1/60\n",
      "130/130 [==============================] - 1s 6ms/step - loss: 1.0258 - acc: 0.0000e+00 - val_loss: 1.0335 - val_acc: 0.0000e+00\n",
      "Epoch 2/60\n",
      "130/130 [==============================] - 0s 161us/step - loss: 0.9974 - acc: 0.0000e+00 - val_loss: 1.0071 - val_acc: 0.0000e+00\n",
      "Epoch 3/60\n",
      "130/130 [==============================] - 0s 163us/step - loss: 0.9669 - acc: 0.0000e+00 - val_loss: 0.9834 - val_acc: 0.0000e+00\n",
      "Epoch 4/60\n",
      "130/130 [==============================] - 0s 167us/step - loss: 0.9387 - acc: 0.0000e+00 - val_loss: 0.9614 - val_acc: 0.0000e+00\n",
      "Epoch 5/60\n",
      "130/130 [==============================] - 0s 169us/step - loss: 0.9127 - acc: 0.0000e+00 - val_loss: 0.9399 - val_acc: 0.0000e+00\n",
      "Epoch 6/60\n",
      "130/130 [==============================] - 0s 181us/step - loss: 0.8874 - acc: 0.0000e+00 - val_loss: 0.9190 - val_acc: 0.0000e+00\n",
      "Epoch 7/60\n",
      "130/130 [==============================] - 0s 210us/step - loss: 0.8635 - acc: 0.0000e+00 - val_loss: 0.8996 - val_acc: 0.0000e+00\n",
      "Epoch 8/60\n",
      "130/130 [==============================] - 0s 221us/step - loss: 0.8402 - acc: 0.0000e+00 - val_loss: 0.8808 - val_acc: 0.0000e+00\n",
      "Epoch 9/60\n",
      "130/130 [==============================] - 0s 226us/step - loss: 0.8179 - acc: 0.0000e+00 - val_loss: 0.8621 - val_acc: 0.0000e+00\n",
      "Epoch 10/60\n",
      "130/130 [==============================] - 0s 216us/step - loss: 0.7958 - acc: 0.0000e+00 - val_loss: 0.8429 - val_acc: 0.0000e+00\n",
      "Epoch 11/60\n",
      "130/130 [==============================] - 0s 218us/step - loss: 0.7738 - acc: 0.0000e+00 - val_loss: 0.8233 - val_acc: 0.0000e+00\n",
      "Epoch 12/60\n",
      "130/130 [==============================] - 0s 221us/step - loss: 0.7518 - acc: 0.0000e+00 - val_loss: 0.8035 - val_acc: 0.0000e+00\n",
      "Epoch 13/60\n",
      "130/130 [==============================] - 0s 230us/step - loss: 0.7293 - acc: 0.0000e+00 - val_loss: 0.7833 - val_acc: 0.0000e+00\n",
      "Epoch 14/60\n",
      "130/130 [==============================] - 0s 168us/step - loss: 0.7067 - acc: 0.0000e+00 - val_loss: 0.7629 - val_acc: 0.0000e+00\n",
      "Epoch 15/60\n",
      "130/130 [==============================] - 0s 162us/step - loss: 0.6841 - acc: 0.0000e+00 - val_loss: 0.7422 - val_acc: 0.0000e+00\n",
      "Epoch 16/60\n",
      "130/130 [==============================] - 0s 165us/step - loss: 0.6613 - acc: 0.0000e+00 - val_loss: 0.7214 - val_acc: 0.0000e+00\n",
      "Epoch 17/60\n",
      "130/130 [==============================] - 0s 150us/step - loss: 0.6386 - acc: 0.0000e+00 - val_loss: 0.7005 - val_acc: 0.0000e+00\n",
      "Epoch 18/60\n",
      "130/130 [==============================] - 0s 176us/step - loss: 0.6158 - acc: 0.0000e+00 - val_loss: 0.6795 - val_acc: 0.0000e+00\n",
      "Epoch 19/60\n",
      "130/130 [==============================] - 0s 165us/step - loss: 0.5932 - acc: 0.0000e+00 - val_loss: 0.6585 - val_acc: 0.0000e+00\n",
      "Epoch 20/60\n",
      "130/130 [==============================] - 0s 174us/step - loss: 0.5707 - acc: 0.0000e+00 - val_loss: 0.6376 - val_acc: 0.0000e+00\n",
      "Epoch 21/60\n",
      "130/130 [==============================] - 0s 173us/step - loss: 0.5482 - acc: 0.0000e+00 - val_loss: 0.6168 - val_acc: 0.0000e+00\n",
      "Epoch 22/60\n",
      "130/130 [==============================] - 0s 182us/step - loss: 0.5260 - acc: 0.0000e+00 - val_loss: 0.5962 - val_acc: 0.0000e+00\n",
      "Epoch 23/60\n",
      "130/130 [==============================] - 0s 172us/step - loss: 0.5040 - acc: 0.0000e+00 - val_loss: 0.5757 - val_acc: 0.0000e+00\n",
      "Epoch 24/60\n",
      "130/130 [==============================] - 0s 166us/step - loss: 0.4824 - acc: 0.0000e+00 - val_loss: 0.5554 - val_acc: 0.0000e+00\n",
      "Epoch 25/60\n",
      "130/130 [==============================] - 0s 169us/step - loss: 0.4611 - acc: 0.0000e+00 - val_loss: 0.5353 - val_acc: 0.0000e+00\n",
      "Epoch 26/60\n",
      "130/130 [==============================] - 0s 171us/step - loss: 0.4399 - acc: 0.0000e+00 - val_loss: 0.5154 - val_acc: 0.0000e+00\n",
      "Epoch 27/60\n",
      "130/130 [==============================] - 0s 161us/step - loss: 0.4193 - acc: 0.0000e+00 - val_loss: 0.4958 - val_acc: 0.0000e+00\n",
      "Epoch 28/60\n",
      "130/130 [==============================] - 0s 181us/step - loss: 0.3990 - acc: 0.0000e+00 - val_loss: 0.4764 - val_acc: 0.0000e+00\n",
      "Epoch 29/60\n",
      "130/130 [==============================] - 0s 193us/step - loss: 0.3792 - acc: 0.0000e+00 - val_loss: 0.4573 - val_acc: 0.0000e+00\n",
      "Epoch 30/60\n",
      "130/130 [==============================] - 0s 203us/step - loss: 0.3598 - acc: 0.0000e+00 - val_loss: 0.4385 - val_acc: 0.0000e+00\n",
      "Epoch 31/60\n",
      "130/130 [==============================] - 0s 200us/step - loss: 0.3409 - acc: 0.0000e+00 - val_loss: 0.4201 - val_acc: 0.0000e+00\n",
      "Epoch 32/60\n",
      "130/130 [==============================] - 0s 161us/step - loss: 0.3225 - acc: 0.0077 - val_loss: 0.4021 - val_acc: 0.0000e+00\n",
      "Epoch 33/60\n",
      "130/130 [==============================] - 0s 197us/step - loss: 0.3047 - acc: 0.0077 - val_loss: 0.3844 - val_acc: 0.0000e+00\n",
      "Epoch 34/60\n",
      "130/130 [==============================] - 0s 201us/step - loss: 0.2873 - acc: 0.0077 - val_loss: 0.3673 - val_acc: 0.0000e+00\n",
      "Epoch 35/60\n",
      "130/130 [==============================] - 0s 200us/step - loss: 0.2706 - acc: 0.0077 - val_loss: 0.3505 - val_acc: 0.0000e+00\n",
      "Epoch 36/60\n",
      "130/130 [==============================] - 0s 217us/step - loss: 0.2545 - acc: 0.0077 - val_loss: 0.3342 - val_acc: 0.0000e+00\n",
      "Epoch 37/60\n",
      "130/130 [==============================] - 0s 215us/step - loss: 0.2389 - acc: 0.0154 - val_loss: 0.3185 - val_acc: 0.0000e+00\n",
      "Epoch 38/60\n",
      "130/130 [==============================] - 0s 197us/step - loss: 0.2240 - acc: 0.0231 - val_loss: 0.3031 - val_acc: 0.0000e+00\n",
      "Epoch 39/60\n",
      "130/130 [==============================] - 0s 205us/step - loss: 0.2096 - acc: 0.0231 - val_loss: 0.2882 - val_acc: 0.0000e+00\n",
      "Epoch 40/60\n",
      "130/130 [==============================] - 0s 207us/step - loss: 0.1958 - acc: 0.0231 - val_loss: 0.2737 - val_acc: 0.0000e+00\n",
      "Epoch 41/60\n",
      "130/130 [==============================] - 0s 222us/step - loss: 0.1827 - acc: 0.0231 - val_loss: 0.2598 - val_acc: 0.0000e+00\n",
      "Epoch 42/60\n",
      "130/130 [==============================] - 0s 222us/step - loss: 0.1702 - acc: 0.0231 - val_loss: 0.2463 - val_acc: 0.0000e+00\n",
      "Epoch 43/60\n",
      "130/130 [==============================] - 0s 216us/step - loss: 0.1581 - acc: 0.0231 - val_loss: 0.2334 - val_acc: 0.0000e+00\n",
      "Epoch 44/60\n",
      "130/130 [==============================] - 0s 195us/step - loss: 0.1469 - acc: 0.0231 - val_loss: 0.2210 - val_acc: 0.0000e+00\n",
      "Epoch 45/60\n",
      "130/130 [==============================] - 0s 209us/step - loss: 0.1361 - acc: 0.0231 - val_loss: 0.2090 - val_acc: 0.0000e+00\n",
      "Epoch 46/60\n",
      "130/130 [==============================] - 0s 204us/step - loss: 0.1260 - acc: 0.0231 - val_loss: 0.1976 - val_acc: 0.0000e+00\n",
      "Epoch 47/60\n",
      "130/130 [==============================] - 0s 218us/step - loss: 0.1165 - acc: 0.0231 - val_loss: 0.1867 - val_acc: 0.0000e+00\n",
      "Epoch 48/60\n",
      "130/130 [==============================] - 0s 213us/step - loss: 0.1075 - acc: 0.0231 - val_loss: 0.1763 - val_acc: 0.0000e+00\n",
      "Epoch 49/60\n",
      "130/130 [==============================] - 0s 217us/step - loss: 0.0992 - acc: 0.0231 - val_loss: 0.1663 - val_acc: 0.0000e+00\n",
      "Epoch 50/60\n",
      "130/130 [==============================] - 0s 226us/step - loss: 0.0914 - acc: 0.0231 - val_loss: 0.1569 - val_acc: 0.0000e+00\n",
      "Epoch 51/60\n",
      "130/130 [==============================] - 0s 202us/step - loss: 0.0841 - acc: 0.0231 - val_loss: 0.1480 - val_acc: 0.0000e+00\n",
      "Epoch 52/60\n",
      "130/130 [==============================] - 0s 184us/step - loss: 0.0775 - acc: 0.0231 - val_loss: 0.1395 - val_acc: 0.0000e+00\n",
      "Epoch 53/60\n",
      "130/130 [==============================] - 0s 165us/step - loss: 0.0713 - acc: 0.0231 - val_loss: 0.1315 - val_acc: 0.0000e+00\n",
      "Epoch 54/60\n",
      "130/130 [==============================] - 0s 156us/step - loss: 0.0655 - acc: 0.0231 - val_loss: 0.1240 - val_acc: 0.0000e+00\n",
      "Epoch 55/60\n",
      "130/130 [==============================] - 0s 160us/step - loss: 0.0602 - acc: 0.0231 - val_loss: 0.1169 - val_acc: 0.0000e+00\n",
      "Epoch 56/60\n",
      "130/130 [==============================] - 0s 167us/step - loss: 0.0555 - acc: 0.0231 - val_loss: 0.1101 - val_acc: 0.0000e+00\n",
      "Epoch 57/60\n",
      "130/130 [==============================] - 0s 184us/step - loss: 0.0511 - acc: 0.0231 - val_loss: 0.1037 - val_acc: 0.0000e+00\n",
      "Epoch 58/60\n",
      "130/130 [==============================] - 0s 202us/step - loss: 0.0471 - acc: 0.0231 - val_loss: 0.0978 - val_acc: 0.0000e+00\n",
      "Epoch 59/60\n",
      "130/130 [==============================] - 0s 176us/step - loss: 0.0434 - acc: 0.0231 - val_loss: 0.0922 - val_acc: 0.0000e+00\n",
      "Epoch 60/60\n",
      "130/130 [==============================] - 0s 178us/step - loss: 0.0402 - acc: 0.0231 - val_loss: 0.0869 - val_acc: 0.0000e+00\n"
     ]
    }
   ],
   "source": [
    "import keras.layers as layers\n",
    "import keras\n",
    "from keras.models import Sequential\n",
    "from keras.initializers import he_normal\n",
    "\n",
    "input_shape = cnn_x[0].shape\n",
    "time_period = 50\n",
    "num_classes = 1\n",
    "\n",
    "\n",
    "model_m = Sequential()\n",
    "\n",
    "model = keras.Sequential()\n",
    "\n",
    "model.add(layers.Conv1D(filters=5, kernel_size=3, activation='relu', input_shape=cnn_x[0].shape))\n",
    "model.add(layers.AveragePooling1D(5))\n",
    "\n",
    "model.add(layers.Conv1D(filters=5, kernel_size=3, activation='relu'))\n",
    "model.add(layers.AveragePooling1D(5))\n",
    "model.add(layers.Flatten())\n",
    "model.add(layers.Dense(units=120, activation='relu'))\n",
    "model.add(layers.Dense(units=84, activation='relu'))\n",
    "model.add(layers.Dense(units=1, ))#activation = 'softmax'))\n",
    "\n",
    "adam = keras.optimizers.Adam(lr=0.0003, beta_1=0.9, beta_2=0.99, epsilon=None, decay=0.01, amsgrad=False)\n",
    "\n",
    "model.compile(loss='mse',\n",
    "                optimizer=adam,metrics=['accuracy'])\n",
    "\n",
    "print(model.summary())\n",
    "\n",
    "history = model.fit(cnn_x_train, cnn_y_train,\n",
    "                    batch_size=50,\n",
    "                    epochs=60,\n",
    "                    verbose=1,\n",
    "                    validation_split=0.1, )\n"
   ]
  },
  {
   "cell_type": "code",
   "execution_count": 46,
   "metadata": {
    "scrolled": true
   },
   "outputs": [
    {
     "data": {
      "text/plain": [
       "[1.0257676564730132,\n",
       " 0.9973783722290626,\n",
       " 0.9668561953764695,\n",
       " 0.9387190250250009,\n",
       " 0.9127312806936411,\n",
       " 0.887415335728572,\n",
       " 0.863537270289201,\n",
       " 0.8402446187459506,\n",
       " 0.817933453963353,\n",
       " 0.7958092414415799,\n",
       " 0.7738103087131794,\n",
       " 0.7517612943282495,\n",
       " 0.729304341169504,\n",
       " 0.7067173765255854,\n",
       " 0.6841227045426002,\n",
       " 0.6612874957231375,\n",
       " 0.6385898773486798,\n",
       " 0.615816396016341,\n",
       " 0.5931616929861215,\n",
       " 0.5706645983916062,\n",
       " 0.5482264390358558,\n",
       " 0.5259904036155114,\n",
       " 0.504037808913451,\n",
       " 0.48235422372817993,\n",
       " 0.4610627843783452,\n",
       " 0.43988460073104274,\n",
       " 0.419250121483436,\n",
       " 0.3989996910095215,\n",
       " 0.3791551681665274,\n",
       " 0.35979339938897353,\n",
       " 0.340902709043943,\n",
       " 0.32250781471912676,\n",
       " 0.30468779573073757,\n",
       " 0.28733847920711225,\n",
       " 0.27063512343626756,\n",
       " 0.2544519809576181,\n",
       " 0.23893549923713392,\n",
       " 0.22397636335629684,\n",
       " 0.20958847036728492,\n",
       " 0.19583166104096633,\n",
       " 0.1826967138510484,\n",
       " 0.1701639065375695,\n",
       " 0.15814482821868017,\n",
       " 0.14685038075997278,\n",
       " 0.13607364205213693,\n",
       " 0.1259803153001345,\n",
       " 0.11646784154268411,\n",
       " 0.10750438444889508,\n",
       " 0.09919655265716407,\n",
       " 0.09140341843550022,\n",
       " 0.08410260482476307,\n",
       " 0.07749868298952396,\n",
       " 0.07128043845295906,\n",
       " 0.06554680976730126,\n",
       " 0.06019797577307774,\n",
       " 0.05553145706653595,\n",
       " 0.051076726558116764,\n",
       " 0.047052077375925504,\n",
       " 0.04342097588456594,\n",
       " 0.04017710141264475]"
      ]
     },
     "execution_count": 46,
     "metadata": {},
     "output_type": "execute_result"
    }
   ],
   "source": [
    "history.history['loss']"
   ]
  },
  {
   "cell_type": "code",
   "execution_count": 47,
   "metadata": {},
   "outputs": [
    {
     "data": {
      "text/plain": [
       "[<matplotlib.lines.Line2D at 0x22d68e50a48>]"
      ]
     },
     "execution_count": 47,
     "metadata": {},
     "output_type": "execute_result"
    },
    {
     "data": {
      "image/png": "[encoded data removed]",
      "text/plain": [
       "<Figure size 432x288 with 1 Axes>"
      ]
     },
     "metadata": {
      "needs_background": "light"
     },
     "output_type": "display_data"
    }
   ],
   "source": [
    "import matplotlib.pyplot as plt\n",
    "%matplotlib inline\n",
    "plt.plot(history.history['loss'][1:])\n",
    "plt.plot(history.history['val_loss'])"
   ]
  },
  {
   "cell_type": "code",
   "execution_count": 48,
   "metadata": {},
   "outputs": [
    {
     "data": {
      "text/plain": [
       "<AxesSubplot:>"
      ]
     },
     "execution_count": 48,
     "metadata": {},
     "output_type": "execute_result"
    },
    {
     "data": {
      "image/png": "[encoded data removed]",
      "text/plain": [
       "<Figure size 432x288 with 1 Axes>"
      ]
     },
     "metadata": {
      "needs_background": "light"
     },
     "output_type": "display_data"
    }
   ],
   "source": [
    "ey = model.predict(cnn_x)\n",
    "ey = pd.Series(ey.swapaxes(0, 1)[0], index=indexes)\n",
    "%matplotlib inline\n",
    "ey.plot()"
   ]
  },
  {
   "cell_type": "code",
   "execution_count": 25,
   "metadata": {},
   "outputs": [
    {
     "data": {
      "text/plain": [
       "<AxesSubplot:>"
      ]
     },
     "execution_count": 25,
     "metadata": {},
     "output_type": "execute_result"
    },
    {
     "data": {
      "image/png": "[encoded data removed]",
      "text/plain": [
       "<Figure size 432x288 with 1 Axes>"
      ]
     },
     "metadata": {
      "needs_background": "light"
     },
     "output_type": "display_data"
    }
   ],
   "source": [
    "((ey > 1.0000000001).rolling(8).sum() >0).astype(int).plot()"
   ]
  },
  {
   "cell_type": "code",
   "execution_count": 26,
   "metadata": {},
   "outputs": [
    {
     "data": {
      "text/plain": [
       "<AxesSubplot:>"
      ]
     },
     "execution_count": 26,
     "metadata": {},
     "output_type": "execute_result"
    },
    {
     "data": {
      "image/png": "[encoded data removed]",
      "text/plain": [
       "<Figure size 432x288 with 1 Axes>"
      ]
     },
     "metadata": {
      "needs_background": "light"
     },
     "output_type": "display_data"
    }
   ],
   "source": [
    "ey.hist()"
   ]
  },
  {
   "cell_type": "code",
   "execution_count": 50,
   "metadata": {},
   "outputs": [
    {
     "ename": "KeyError",
     "evalue": "\"None of [DatetimeIndex(['2016-09-12', '2016-09-19', '2016-09-22', '2016-09-29',\\n               '2016-10-04', '2016-10-07', '2016-10-13', '2016-10-18',\\n               '2016-10-21', '2016-10-26',\\n               ...\\n               '2019-05-03', '2019-05-08', '2019-05-13', '2019-05-16',\\n               '2019-05-21', '2019-05-24', '2019-05-29', '2019-06-03',\\n               '2019-06-06', '2019-06-12'],\\n              dtype='datetime64[ns]', length=223, freq=None)] are in the [columns]\"",
     "output_type": "error",
     "traceback": [
      "\u001b[1;31m---------------------------------------------------------------------------\u001b[0m",
      "\u001b[1;31mKeyError\u001b[0m                                  Traceback (most recent call last)",
      "\u001b[1;32m<ipython-input-50-1c7ce7768386>\u001b[0m in \u001b[0;36m<module>\u001b[1;34m\u001b[0m\n\u001b[1;32m----> 1\u001b[1;33m \u001b[0meq\u001b[0m \u001b[1;33m=\u001b[0m \u001b[0mdf\u001b[0m\u001b[1;33m[\u001b[0m\u001b[0mpd\u001b[0m\u001b[1;33m.\u001b[0m\u001b[0mto_datetime\u001b[0m\u001b[1;33m(\u001b[0m\u001b[0mindexes\u001b[0m\u001b[1;33m)\u001b[0m\u001b[1;33m]\u001b[0m\u001b[1;33m\u001b[0m\u001b[1;33m\u001b[0m\u001b[0m\n\u001b[0m\u001b[0;32m      2\u001b[0m \u001b[0mgain\u001b[0m \u001b[1;33m=\u001b[0m \u001b[1;33m(\u001b[0m\u001b[0meq\u001b[0m\u001b[1;33m.\u001b[0m\u001b[0mshift\u001b[0m\u001b[1;33m(\u001b[0m\u001b[1;33m-\u001b[0m\u001b[1;36m1\u001b[0m\u001b[1;33m)\u001b[0m \u001b[1;33m-\u001b[0m \u001b[0meq\u001b[0m\u001b[1;33m)\u001b[0m\u001b[1;33m\u001b[0m\u001b[1;33m\u001b[0m\u001b[0m\n\u001b[0;32m      3\u001b[0m \u001b[1;33m\u001b[0m\u001b[0m\n\u001b[0;32m      4\u001b[0m \u001b[0msignal\u001b[0m \u001b[1;33m=\u001b[0m \u001b[1;33m(\u001b[0m\u001b[0mey\u001b[0m \u001b[1;33m>\u001b[0m \u001b[0mey\u001b[0m\u001b[1;33m.\u001b[0m\u001b[0mquantile\u001b[0m\u001b[1;33m(\u001b[0m\u001b[1;36m0.9\u001b[0m\u001b[1;33m)\u001b[0m\u001b[1;33m)\u001b[0m\u001b[1;33m.\u001b[0m\u001b[0mrolling\u001b[0m\u001b[1;33m(\u001b[0m\u001b[1;36m20\u001b[0m\u001b[1;33m)\u001b[0m\u001b[1;33m.\u001b[0m\u001b[0msum\u001b[0m\u001b[1;33m(\u001b[0m\u001b[1;33m)\u001b[0m \u001b[1;33m>\u001b[0m \u001b[1;36m0\u001b[0m\u001b[1;33m\u001b[0m\u001b[1;33m\u001b[0m\u001b[0m\n\u001b[0;32m      5\u001b[0m \u001b[0meq\u001b[0m \u001b[1;33m=\u001b[0m \u001b[1;33m(\u001b[0m\u001b[0mgain\u001b[0m\u001b[1;33m[\u001b[0m\u001b[0msignal\u001b[0m\u001b[1;33m]\u001b[0m\u001b[1;33m)\u001b[0m\u001b[1;33m[\u001b[0m\u001b[1;34m'2018'\u001b[0m\u001b[1;33m:\u001b[0m\u001b[1;33m]\u001b[0m\u001b[1;33m.\u001b[0m\u001b[0mcumsum\u001b[0m\u001b[1;33m(\u001b[0m\u001b[1;33m)\u001b[0m\u001b[1;33m\u001b[0m\u001b[1;33m\u001b[0m\u001b[0m\n",
      "\u001b[1;32m~\\anaconda3\\envs\\finlab\\lib\\site-packages\\pandas\\core\\frame.py\u001b[0m in \u001b[0;36m__getitem__\u001b[1;34m(self, key)\u001b[0m\n\u001b[0;32m   2910\u001b[0m             \u001b[1;32mif\u001b[0m \u001b[0mis_iterator\u001b[0m\u001b[1;33m(\u001b[0m\u001b[0mkey\u001b[0m\u001b[1;33m)\u001b[0m\u001b[1;33m:\u001b[0m\u001b[1;33m\u001b[0m\u001b[1;33m\u001b[0m\u001b[0m\n\u001b[0;32m   2911\u001b[0m                 \u001b[0mkey\u001b[0m \u001b[1;33m=\u001b[0m \u001b[0mlist\u001b[0m\u001b[1;33m(\u001b[0m\u001b[0mkey\u001b[0m\u001b[1;33m)\u001b[0m\u001b[1;33m\u001b[0m\u001b[1;33m\u001b[0m\u001b[0m\n\u001b[1;32m-> 2912\u001b[1;33m             \u001b[0mindexer\u001b[0m \u001b[1;33m=\u001b[0m \u001b[0mself\u001b[0m\u001b[1;33m.\u001b[0m\u001b[0mloc\u001b[0m\u001b[1;33m.\u001b[0m\u001b[0m_get_listlike_indexer\u001b[0m\u001b[1;33m(\u001b[0m\u001b[0mkey\u001b[0m\u001b[1;33m,\u001b[0m \u001b[0maxis\u001b[0m\u001b[1;33m=\u001b[0m\u001b[1;36m1\u001b[0m\u001b[1;33m,\u001b[0m \u001b[0mraise_missing\u001b[0m\u001b[1;33m=\u001b[0m\u001b[1;32mTrue\u001b[0m\u001b[1;33m)\u001b[0m\u001b[1;33m[\u001b[0m\u001b[1;36m1\u001b[0m\u001b[1;33m]\u001b[0m\u001b[1;33m\u001b[0m\u001b[1;33m\u001b[0m\u001b[0m\n\u001b[0m\u001b[0;32m   2913\u001b[0m \u001b[1;33m\u001b[0m\u001b[0m\n\u001b[0;32m   2914\u001b[0m         \u001b[1;31m# take() does not accept boolean indexers\u001b[0m\u001b[1;33m\u001b[0m\u001b[1;33m\u001b[0m\u001b[1;33m\u001b[0m\u001b[0m\n",
      "\u001b[1;32m~\\anaconda3\\envs\\finlab\\lib\\site-packages\\pandas\\core\\indexing.py\u001b[0m in \u001b[0;36m_get_listlike_indexer\u001b[1;34m(self, key, axis, raise_missing)\u001b[0m\n\u001b[0;32m   1252\u001b[0m             \u001b[0mkeyarr\u001b[0m\u001b[1;33m,\u001b[0m \u001b[0mindexer\u001b[0m\u001b[1;33m,\u001b[0m \u001b[0mnew_indexer\u001b[0m \u001b[1;33m=\u001b[0m \u001b[0max\u001b[0m\u001b[1;33m.\u001b[0m\u001b[0m_reindex_non_unique\u001b[0m\u001b[1;33m(\u001b[0m\u001b[0mkeyarr\u001b[0m\u001b[1;33m)\u001b[0m\u001b[1;33m\u001b[0m\u001b[1;33m\u001b[0m\u001b[0m\n\u001b[0;32m   1253\u001b[0m \u001b[1;33m\u001b[0m\u001b[0m\n\u001b[1;32m-> 1254\u001b[1;33m         \u001b[0mself\u001b[0m\u001b[1;33m.\u001b[0m\u001b[0m_validate_read_indexer\u001b[0m\u001b[1;33m(\u001b[0m\u001b[0mkeyarr\u001b[0m\u001b[1;33m,\u001b[0m \u001b[0mindexer\u001b[0m\u001b[1;33m,\u001b[0m \u001b[0maxis\u001b[0m\u001b[1;33m,\u001b[0m \u001b[0mraise_missing\u001b[0m\u001b[1;33m=\u001b[0m\u001b[0mraise_missing\u001b[0m\u001b[1;33m)\u001b[0m\u001b[1;33m\u001b[0m\u001b[1;33m\u001b[0m\u001b[0m\n\u001b[0m\u001b[0;32m   1255\u001b[0m         \u001b[1;32mreturn\u001b[0m \u001b[0mkeyarr\u001b[0m\u001b[1;33m,\u001b[0m \u001b[0mindexer\u001b[0m\u001b[1;33m\u001b[0m\u001b[1;33m\u001b[0m\u001b[0m\n\u001b[0;32m   1256\u001b[0m \u001b[1;33m\u001b[0m\u001b[0m\n",
      "\u001b[1;32m~\\anaconda3\\envs\\finlab\\lib\\site-packages\\pandas\\core\\indexing.py\u001b[0m in \u001b[0;36m_validate_read_indexer\u001b[1;34m(self, key, indexer, axis, raise_missing)\u001b[0m\n\u001b[0;32m   1296\u001b[0m             \u001b[1;32mif\u001b[0m \u001b[0mmissing\u001b[0m \u001b[1;33m==\u001b[0m \u001b[0mlen\u001b[0m\u001b[1;33m(\u001b[0m\u001b[0mindexer\u001b[0m\u001b[1;33m)\u001b[0m\u001b[1;33m:\u001b[0m\u001b[1;33m\u001b[0m\u001b[1;33m\u001b[0m\u001b[0m\n\u001b[0;32m   1297\u001b[0m                 \u001b[0maxis_name\u001b[0m \u001b[1;33m=\u001b[0m \u001b[0mself\u001b[0m\u001b[1;33m.\u001b[0m\u001b[0mobj\u001b[0m\u001b[1;33m.\u001b[0m\u001b[0m_get_axis_name\u001b[0m\u001b[1;33m(\u001b[0m\u001b[0maxis\u001b[0m\u001b[1;33m)\u001b[0m\u001b[1;33m\u001b[0m\u001b[1;33m\u001b[0m\u001b[0m\n\u001b[1;32m-> 1298\u001b[1;33m                 \u001b[1;32mraise\u001b[0m \u001b[0mKeyError\u001b[0m\u001b[1;33m(\u001b[0m\u001b[1;34mf\"None of [{key}] are in the [{axis_name}]\"\u001b[0m\u001b[1;33m)\u001b[0m\u001b[1;33m\u001b[0m\u001b[1;33m\u001b[0m\u001b[0m\n\u001b[0m\u001b[0;32m   1299\u001b[0m \u001b[1;33m\u001b[0m\u001b[0m\n\u001b[0;32m   1300\u001b[0m             \u001b[1;31m# We (temporarily) allow for some missing keys with .loc, except in\u001b[0m\u001b[1;33m\u001b[0m\u001b[1;33m\u001b[0m\u001b[1;33m\u001b[0m\u001b[0m\n",
      "\u001b[1;31mKeyError\u001b[0m: \"None of [DatetimeIndex(['2016-09-12', '2016-09-19', '2016-09-22', '2016-09-29',\\n               '2016-10-04', '2016-10-07', '2016-10-13', '2016-10-18',\\n               '2016-10-21', '2016-10-26',\\n               ...\\n               '2019-05-03', '2019-05-08', '2019-05-13', '2019-05-16',\\n               '2019-05-21', '2019-05-24', '2019-05-29', '2019-06-03',\\n               '2019-06-06', '2019-06-12'],\\n              dtype='datetime64[ns]', length=223, freq=None)] are in the [columns]\""
     ]
    }
   ],
   "source": [
    "\n",
    "eq = df[pd.to_datetime(indexes)]\n",
    "gain = (eq.shift(-1) - eq) \n",
    "\n",
    "signal = (ey > ey.quantile(0.9)).rolling(20).sum() > 0\n",
    "eq = (gain[signal])['2018':].cumsum()\n",
    "eq.plot()"
   ]
  },
  {
   "cell_type": "code",
   "execution_count": 369,
   "metadata": {},
   "outputs": [
    {
     "data": {
      "text/plain": [
       "2018-07-02     True\n",
       "2018-07-05     True\n",
       "2018-07-10     True\n",
       "2018-07-13     True\n",
       "2018-07-18    False\n",
       "2018-07-23    False\n",
       "2018-07-26    False\n",
       "2018-07-31    False\n",
       "2018-08-03    False\n",
       "2018-08-08    False\n",
       "2018-08-13    False\n",
       "2018-08-16    False\n",
       "2018-08-21    False\n",
       "2018-08-24    False\n",
       "2018-08-29    False\n",
       "2018-09-03    False\n",
       "2018-09-06    False\n",
       "2018-09-11    False\n",
       "2018-09-14     True\n",
       "2018-09-19     True\n",
       "2018-09-25     True\n",
       "2018-09-28     True\n",
       "2018-10-03     True\n",
       "2018-10-08     True\n",
       "2018-10-12     True\n",
       "2018-10-17     True\n",
       "2018-10-22     True\n",
       "2018-10-25     True\n",
       "2018-10-30     True\n",
       "2018-11-02     True\n",
       "2018-11-07     True\n",
       "2018-11-12     True\n",
       "2018-11-15     True\n",
       "2018-11-20     True\n",
       "2018-11-23     True\n",
       "2018-11-28     True\n",
       "dtype: bool"
      ]
     },
     "execution_count": 369,
     "metadata": {},
     "output_type": "execute_result"
    }
   ],
   "source": [
    "signal = (ey > 1.0000000001).rolling(8).sum() >0\n",
    "output = signal['2018-07-01':'2018-12-01']\n",
    "output\n"
   ]
  },
  {
   "cell_type": "code",
   "execution_count": 340,
   "metadata": {},
   "outputs": [
    {
     "data": {
      "text/plain": [
       "1976"
      ]
     },
     "execution_count": 340,
     "metadata": {},
     "output_type": "execute_result"
    }
   ],
   "source": [
    "signal['2018':].astype(int).diff().abs().sum()"
   ]
  },
  {
   "cell_type": "code",
   "execution_count": null,
   "metadata": {},
   "outputs": [],
   "source": []
  }
 ],
 "metadata": {
  "kernelspec": {
   "display_name": "finlab",
   "language": "python",
   "name": "finlab"
  },
  "language_info": {
   "codemirror_mode": {
    "name": "ipython",
    "version": 3
   },
   "file_extension": ".py",
   "mimetype": "text/x-python",
   "name": "python",
   "nbconvert_exporter": "python",
   "pygments_lexer": "ipython3",
   "version": "3.7.10"
  }
 },
 "nbformat": 4,
 "nbformat_minor": 4
}
